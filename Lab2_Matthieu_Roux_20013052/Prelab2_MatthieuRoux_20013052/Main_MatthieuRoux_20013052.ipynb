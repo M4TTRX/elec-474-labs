{
 "cells": [
  {
   "cell_type": "markdown",
   "metadata": {},
   "source": [
    "# ELEC 474 Prelab \n",
    "Matthieu Roux 20013052"
   ]
  },
  {
   "cell_type": "code",
   "execution_count": 1,
   "metadata": {},
   "outputs": [],
   "source": [
    "import cv2\n",
    "import numpy as np\n",
    "import copy # used to create deep copies of the original pixel"
   ]
  },
  {
   "cell_type": "code",
   "execution_count": 2,
   "metadata": {},
   "outputs": [],
   "source": [
    "img = cv2.imread(\"baboon.png\")\n",
    "x = y = red = green = blue = 0\n",
    "\n",
    "# segment_pixels will hold all the points that are in the region\n",
    "segment_pixels = {}\n",
    "# next_pixel_stack holds all the points that could be added to the segment.\n",
    "next_pixel_stack=[]"
   ]
  },
  {
   "cell_type": "code",
   "execution_count": 3,
   "metadata": {},
   "outputs": [],
   "source": [
    "segment_color = [0, 255, 0] # should be a very bright green"
   ]
  },
  {
   "cell_type": "markdown",
   "metadata": {},
   "source": [
    "## onMouse\n",
    "The `onMouse` function handles the left click trigger on the image and obtains the coordinates of the click"
   ]
  },
  {
   "cell_type": "code",
   "execution_count": 4,
   "metadata": {},
   "outputs": [],
   "source": [
    "def onMouse(event,_x,_y,flags,param):\n",
    "    global x, y, green, blue, red, img, next_pixel_stack\n",
    "    if event == cv2.EVENT_LBUTTONDOWN:\n",
    "        green = img[_y,_x,0]\n",
    "        blue = img[_y,_x,1]\n",
    "        red = img[_y,_x,2]\n",
    "        x = _x\n",
    "        y = _y\n",
    "        \n",
    "        next_pixel_stack.append((_y,_x))\n",
    "        segmentation()"
   ]
  },
  {
   "cell_type": "code",
   "execution_count": 5,
   "metadata": {},
   "outputs": [],
   "source": [
    "def segmentation():\n",
    "    global x, y, green, blue, red, img, next_pixel_stack, segment_pixels, segment_color\n",
    "    og_pixel = copy.deepcopy(img[next_pixel_stack[0]])\n",
    "    print(og_pixel)\n",
    "    while len(next_pixel_stack) > 0:\n",
    "        pixel = next_pixel_stack.pop()\n",
    "        # check if the pixels are already in the degment\n",
    "        if pixel in segment_pixels:\n",
    "            continue\n",
    "        if is_homogeneous_2(og_pixel, img[pixel]):\n",
    "            segment_pixels[pixel] = True\n",
    "            # update the pixel\n",
    "            img[pixel] = segment_color\n",
    "            # find the next potential pixels and add them to the stack\n",
    "            next_pixels = get_next_pixels(pixel)\n",
    "            next_pixel_stack.extend(next_pixels)"
   ]
  },
  {
   "cell_type": "code",
   "execution_count": 6,
   "metadata": {},
   "outputs": [],
   "source": [
    "def get_diff(value1, value2):\n",
    "    if value1 > value2:\n",
    "        diff = value1 - value2\n",
    "    else:\n",
    "        diff = value2 - value1\n",
    "    return diff\n",
    "    \n",
    "def is_homogeneous(og_pixel, pixel):\n",
    "    global img, threshold\n",
    "    diffs = [get_diff(og_pixel[i], pixel[i]) for i in range(3)]\n",
    "    return diffs[0] <= threshold or diffs[1] <= threshold or diffs[2] <= threshold\n",
    "\n",
    "def is_homogeneous_2(og_pixel, pixel):\n",
    "    global img, threshold\n",
    "    diffs = [get_diff(og_pixel[i], pixel[i]) for i in range(3)]\n",
    "    homogeneous = diffs[0] <= threshold and diffs[1] <= threshold and diffs[2] <= threshold\n",
    "    return homogeneous"
   ]
  },
  {
   "cell_type": "code",
   "execution_count": 7,
   "metadata": {},
   "outputs": [],
   "source": [
    "def get_next_pixels(pixel):\n",
    "    global img\n",
    "    max_x = img.shape[1] - 1\n",
    "    max_y = img.shape[0] - 1\n",
    "    next_pixels = []\n",
    "    if pixel[0] != 0:\n",
    "        next_pixels.append((pixel[0] - 1, pixel[1]))\n",
    "    if pixel[0] != max_y:\n",
    "        next_pixels.append((pixel[0] + 1, pixel[1]))\n",
    "    if pixel[1] != 0:\n",
    "        next_pixels.append((pixel[0], pixel[1] - 1))\n",
    "    if pixel[1] != max_x:\n",
    "        next_pixels.append((pixel[0], pixel[1] + 1))\n",
    "    return next_pixels"
   ]
  },
  {
   "cell_type": "code",
   "execution_count": 8,
   "metadata": {},
   "outputs": [],
   "source": [
    "threshold = 20\n",
    "\n",
    "def on_trackbar(val):\n",
    "    global threshold\n",
    "    threshold = val"
   ]
  },
  {
   "cell_type": "code",
   "execution_count": null,
   "metadata": {},
   "outputs": [
    {
     "name": "stdout",
     "output_type": "stream",
     "text": [
      "[ 63 189 222]\n",
      "[ 45 185 221]\n",
      "[ 13  91 241]\n",
      "[ 74  89 235]\n",
      "[177 161 198]\n"
     ]
    }
   ],
   "source": [
    "window_name = \"image\"\n",
    "cv2.namedWindow(window_name)\n",
    "\n",
    "cv2.createTrackbar(\"Threshhold\", window_name, threshold , 100, on_trackbar)\n",
    "keepGoing = True \n",
    "while(keepGoing):\n",
    "    cv2.setMouseCallback(window_name, onMouse)\n",
    "    # Wait a little bit for the image to re-draw\n",
    "    key = cv2.waitKey(1)\n",
    "    cv2.imshow(window_name, img)\n",
    "    if key == ord(\"x\"):\n",
    "        keepGoing = False\n",
    "    if key == ord(\"r\"):\n",
    "        img = cv2.imread(\"baboon.png\")\n",
    "        segment_pixels = {}"
   ]
  },
  {
   "cell_type": "code",
   "execution_count": null,
   "metadata": {},
   "outputs": [],
   "source": [
    "cv2.destroyAllWindows()"
   ]
  },
  {
   "cell_type": "code",
   "execution_count": null,
   "metadata": {},
   "outputs": [],
   "source": []
  }
 ],
 "metadata": {
  "kernelspec": {
   "display_name": "Python 3",
   "language": "python",
   "name": "python3"
  },
  "language_info": {
   "codemirror_mode": {
    "name": "ipython",
    "version": 3
   },
   "file_extension": ".py",
   "mimetype": "text/x-python",
   "name": "python",
   "nbconvert_exporter": "python",
   "pygments_lexer": "ipython3",
   "version": "3.8.3"
  }
 },
 "nbformat": 4,
 "nbformat_minor": 4
}
