{
 "cells": [
  {
   "cell_type": "markdown",
   "metadata": {},
   "source": [
    "# ELEC 474 Prelab \n",
    "Matthieu Roux 20013052"
   ]
  },
  {
   "cell_type": "code",
   "execution_count": 1,
   "metadata": {},
   "outputs": [],
   "source": [
    "import cv2\n",
    "import numpy as np\n",
    "import copy # used to create deep copies of the original pixel"
   ]
  },
  {
   "cell_type": "code",
   "execution_count": 2,
   "metadata": {},
   "outputs": [],
   "source": [
    "img = cv2.imread(\"baboon.png\")\n",
    "x = y = red = green = blue = 0\n",
    "\n",
    "# segment_pixels will hold all the points that are in the region\n",
    "segment_pixels = {}\n",
    "# next_pixel_stack holds all the points that could be added to the segment.\n",
    "next_pixel_stack=[]"
   ]
  },
  {
   "cell_type": "code",
   "execution_count": 3,
   "metadata": {},
   "outputs": [],
   "source": [
    "segment_color = [0, 255, 0] # should be a very bright green"
   ]
  },
  {
   "cell_type": "markdown",
   "metadata": {},
   "source": [
    "## onMouse\n",
    "The `onMouse` function handles the left click trigger on the image and obtains the coordinates of the click"
   ]
  },
  {
   "cell_type": "code",
   "execution_count": 4,
   "metadata": {},
   "outputs": [],
   "source": [
    "def onMouse(event,_x,_y,flags,param):\n",
    "    global x, y, green, blue, red, img, next_pixel_stack\n",
    "    if event == cv2.EVENT_LBUTTONDOWN:\n",
    "        green = img[_y,_x,0]\n",
    "        blue = img[_y,_x,1]\n",
    "        red = img[_y,_x,2]\n",
    "        x = _x\n",
    "        y = _y\n",
    "        \n",
    "        next_pixel_stack.append((_y,_x))\n",
    "        segmentation()"
   ]
  },
  {
   "cell_type": "code",
   "execution_count": 5,
   "metadata": {},
   "outputs": [],
   "source": [
    "def segmentation():\n",
    "    global x, y, green, blue, red, img, next_pixel_stack, segment_pixels, segment_color\n",
    "    og_pixel_index = copy.deepcopy(img[next_pixel_stack[0]])\n",
    "    print(next_pixel_stack[0])\n",
    "    while len(next_pixel_stack) > 0:\n",
    "        pixel = next_pixel_stack.pop()\n",
    "#         print(pixel)\n",
    "#         print(img[pixel])\n",
    "        # check if the pixels are already in the degment\n",
    "        if pixel in segment_pixels:\n",
    "            continue\n",
    "        if is_homogeneous(og_pixel_index, img[pixel]):\n",
    "            segment_pixels[pixel] = True\n",
    "            # update the pixel\n",
    "            img[pixel] = segment_color\n",
    "            # find the next potential pixels and add them to the stack\n",
    "            next_pixels = get_next_pixels(pixel)\n",
    "            next_pixel_stack.extend(next_pixels)"
   ]
  },
  {
   "cell_type": "code",
   "execution_count": 6,
   "metadata": {},
   "outputs": [],
   "source": [
    "def get_diff(value1, value2):\n",
    "    if value1 > value2:\n",
    "        diff = value1 - value2\n",
    "    else:\n",
    "        diff = value2 - value1\n",
    "#     print(\"diffvalues: \", value1,value2, \"\\t diff: \", diff)\n",
    "    return diff\n",
    "    \n",
    "def is_homogeneous(og_pixel, pixel):\n",
    "    global img, threshold\n",
    "#     print(og_pixel, pixel)\n",
    "    diffs = [get_diff(og_pixel[i], pixel[i]) for i in range(3)]\n",
    "    return diffs[0] <= threshold or diffs[1] <= threshold or diffs[2] <= threshold\n",
    "\n",
    "def is_homogeneous_2(og_pixel, pixel):\n",
    "    global img, threshold\n",
    "#     print(og_pixel, pixel)\n",
    "    diffs = [get_diff(og_pixel[i], pixel[i]) for i in range(3)]\n",
    "    homogeneous = diffs[0] <= threshold or diffs[1] <= threshold or diffs[2] <= threshold\n",
    "    return homogeneous"
   ]
  },
  {
   "cell_type": "code",
   "execution_count": 7,
   "metadata": {},
   "outputs": [],
   "source": [
    "def get_next_pixels(pixel):\n",
    "    global img\n",
    "    max_x = img.shape[1] - 1\n",
    "    max_y = img.shape[0] - 1\n",
    "    next_pixels = []\n",
    "    if pixel[0] != 0:\n",
    "        next_pixels.append((pixel[0] - 1, pixel[1]))\n",
    "    if pixel[0] != max_y:\n",
    "        next_pixels.append((pixel[0] + 1, pixel[1]))\n",
    "    if pixel[1] != 0:\n",
    "        next_pixels.append((pixel[0], pixel[1] - 1))\n",
    "    if pixel[1] != max_x:\n",
    "        next_pixels.append((pixel[0], pixel[1] + 1))\n",
    "    return next_pixels"
   ]
  },
  {
   "cell_type": "code",
   "execution_count": 8,
   "metadata": {},
   "outputs": [],
   "source": [
    "default_threshold = 50\n",
    "threshold = default_threshold\n",
    "\n",
    "def on_trackbar(val):\n",
    "    threshold = val"
   ]
  },
  {
   "cell_type": "code",
   "execution_count": 9,
   "metadata": {},
   "outputs": [
    {
     "name": "stdout",
     "output_type": "stream",
     "text": [
      "(247, 227)\n",
      "(242, 227)\n",
      "(247, 225)\n",
      "(252, 232)\n",
      "(261, 237)\n",
      "(287, 252)\n",
      "(158, 308)\n",
      "(222, 191)\n",
      "(324, 224)\n",
      "(334, 231)\n",
      "(342, 217)\n",
      "(335, 232)\n",
      "(294, 237)\n",
      "(258, 239)\n",
      "(228, 247)\n",
      "(214, 225)\n",
      "(237, 230)\n",
      "(509, 3)\n",
      "(159, 57)\n",
      "(401, 29)\n",
      "(374, 30)\n",
      "(351, 29)\n",
      "(347, 29)\n",
      "(304, 34)\n",
      "(251, 34)\n",
      "(223, 37)\n",
      "(175, 44)\n",
      "(127, 57)\n",
      "(67, 177)\n",
      "(70, 185)\n",
      "(70, 178)\n",
      "(71, 179)\n",
      "(63, 192)\n"
     ]
    }
   ],
   "source": [
    "window_name = \"image\"\n",
    "cv2.namedWindow(window_name)\n",
    "cv2.createTrackbar(\"Threshhold\", window_name,default_threshold , 100, on_trackbar)\n",
    "\n",
    "keepGoing = True \n",
    "while(keepGoing):\n",
    "    cv2.setMouseCallback(window_name, onMouse)\n",
    "    # Wait a little bit for the image to re-draw\n",
    "    key = cv2.waitKey(1)\n",
    "    cv2.imshow(window_name, img)\n",
    "    if key == ord(\"x\"):\n",
    "        keepGoing = False\n",
    "    if key == ord(\"r\"):\n",
    "        img = cv2.imread(\"baboon.png\")"
   ]
  },
  {
   "cell_type": "code",
   "execution_count": 10,
   "metadata": {},
   "outputs": [],
   "source": [
    "cv2.destroyAllWindows()"
   ]
  },
  {
   "cell_type": "code",
   "execution_count": 11,
   "metadata": {},
   "outputs": [
    {
     "data": {
      "text/plain": [
       "['In',\n",
       " 'Out',\n",
       " '_',\n",
       " '__',\n",
       " '___',\n",
       " '__builtin__',\n",
       " '__builtins__',\n",
       " '__doc__',\n",
       " '__loader__',\n",
       " '__name__',\n",
       " '__package__',\n",
       " '__spec__',\n",
       " '_dh',\n",
       " '_i',\n",
       " '_i1',\n",
       " '_i10',\n",
       " '_i11',\n",
       " '_i2',\n",
       " '_i3',\n",
       " '_i4',\n",
       " '_i5',\n",
       " '_i6',\n",
       " '_i7',\n",
       " '_i8',\n",
       " '_i9',\n",
       " '_ih',\n",
       " '_ii',\n",
       " '_iii',\n",
       " '_oh',\n",
       " 'blue',\n",
       " 'copy',\n",
       " 'cv2',\n",
       " 'default_threshold',\n",
       " 'exit',\n",
       " 'get_diff',\n",
       " 'get_ipython',\n",
       " 'get_next_pixels',\n",
       " 'green',\n",
       " 'img',\n",
       " 'is_homogeneous',\n",
       " 'keepGoing',\n",
       " 'key',\n",
       " 'next_pixel_stack',\n",
       " 'np',\n",
       " 'onMouse',\n",
       " 'on_trackbar',\n",
       " 'quit',\n",
       " 'red',\n",
       " 'segment_color',\n",
       " 'segment_pixels',\n",
       " 'segmentation',\n",
       " 'threshold',\n",
       " 'window_name',\n",
       " 'x',\n",
       " 'y']"
      ]
     },
     "execution_count": 11,
     "metadata": {},
     "output_type": "execute_result"
    }
   ],
   "source": [
    "dir()"
   ]
  },
  {
   "cell_type": "code",
   "execution_count": null,
   "metadata": {},
   "outputs": [],
   "source": []
  }
 ],
 "metadata": {
  "kernelspec": {
   "display_name": "Python 3",
   "language": "python",
   "name": "python3"
  },
  "language_info": {
   "codemirror_mode": {
    "name": "ipython",
    "version": 3
   },
   "file_extension": ".py",
   "mimetype": "text/x-python",
   "name": "python",
   "nbconvert_exporter": "python",
   "pygments_lexer": "ipython3",
   "version": "3.8.3"
  }
 },
 "nbformat": 4,
 "nbformat_minor": 4
}
