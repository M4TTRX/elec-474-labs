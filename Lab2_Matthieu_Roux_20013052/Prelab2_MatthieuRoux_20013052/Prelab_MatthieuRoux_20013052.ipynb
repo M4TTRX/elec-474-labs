{
 "cells": [
  {
   "cell_type": "markdown",
   "metadata": {},
   "source": [
    "# ELEC 474 Prelab \n",
    "_By Matthieu Roux_ \n",
    "\n",
    "Student ID: 20013052\n",
    "\n",
    "## Changing the image\n",
    "You can change the image you will be playing with by changing the variable name in `img_path` below. By default we will be using the baboon image provided but you can play try the custom image by doing `img_path = my_image_path`"
   ]
  },
  {
   "cell_type": "code",
   "execution_count": 1,
   "metadata": {},
   "outputs": [],
   "source": [
    "my_image_path = \"my_image.png\"\n",
    "baboon_image_path = \"baboon.png\"\n",
    "\n",
    "# edit this to change the image you want to play with\n",
    "img_path = baboon_image_path"
   ]
  },
  {
   "cell_type": "markdown",
   "metadata": {},
   "source": [
    "Imports that will be needed.\n",
    "I am importing the `copy` package in order to do deep copies which is used to keep a good copy of the seed pixel."
   ]
  },
  {
   "cell_type": "code",
   "execution_count": 2,
   "metadata": {},
   "outputs": [],
   "source": [
    "import cv2\n",
    "import numpy as np\n",
    "import copy # used to create deep copies of the original pixel"
   ]
  },
  {
   "cell_type": "markdown",
   "metadata": {},
   "source": [
    "In here the image is being imported and all the global variables are being initailized.\n",
    "\n",
    "`segment_pixels` is the dictionary that is going to be used to find out which pixels are already in the segment. The use of a dcitionary ensures more performance when looking for existing pixels.\n",
    "\n",
    "`next_pixel_stack` is the list of pixels that could be part of the region that are waiting to be processed."
   ]
  },
  {
   "cell_type": "code",
   "execution_count": 3,
   "metadata": {},
   "outputs": [],
   "source": [
    "img = cv2.imread(img_path)\n",
    "\n",
    "x = y = red = green = blue = 0\n",
    "\n",
    "segment_pixels = {}\n",
    "\n",
    "next_pixel_stack=[]\n",
    "\n",
    "threshold = 25\n",
    "\n",
    "window_name = \"image\"\n",
    "\n",
    "segment_color = [0, 255, 0] # should be a very bright green"
   ]
  },
  {
   "cell_type": "markdown",
   "metadata": {},
   "source": [
    "### onMouse\n",
    "The `onMouse` function handles the left click trigger on the image and obtains the coordinates of the click.\n",
    "\n",
    "As instructed, the pixel that is clicked is pushed into the `next_pixel_stack` and will be used as the seed pixel."
   ]
  },
  {
   "cell_type": "code",
   "execution_count": 4,
   "metadata": {},
   "outputs": [],
   "source": [
    "def onMouse(event,_x,_y,flags,param):\n",
    "    global x, y, green, blue, red, img, next_pixel_stack\n",
    "    if event == cv2.EVENT_LBUTTONDOWN:\n",
    "        green = img[_y,_x,0]\n",
    "        blue = img[_y,_x,1]\n",
    "        red = img[_y,_x,2]\n",
    "        x = _x\n",
    "        y = _y\n",
    "        \n",
    "        next_pixel_stack.append((_y,_x))\n",
    "        segmentation()"
   ]
  },
  {
   "cell_type": "markdown",
   "metadata": {},
   "source": [
    "## The Segmentation\n",
    "\n",
    "The segmentation follows the following algorithm:\n",
    "\n",
    "   1. Take the only pixel in the `next_pixel_stack` and set it as the `seed_pixel`\n",
    "    \n",
    "   2. Pop the next pixel in the stack\n",
    "    \n",
    "   3. If the pixel is already in the segment, skip to step 7\n",
    "    \n",
    "   4. Run the homogeneity function to see if the pixel belongs in the region, if the pixel is **not** homogeinous go to step 7\n",
    "    \n",
    "   5. Add the pixel in the region and update its color\n",
    "    \n",
    "   6. Find the pixel's neighbours using **4-connectivity** adn add them to the stack\n",
    "    \n",
    "   7. If there are pixels left in the stack go to step 2\n",
    "  \n",
    "### Notes\n",
    "\n",
    "I was not sure if we were supposed to reset the regions after each click, but I implemented code to reset the image (by pressing the `r` key) below to reset all regions."
   ]
  },
  {
   "cell_type": "code",
   "execution_count": 5,
   "metadata": {},
   "outputs": [],
   "source": [
    "def segmentation():\n",
    "    \n",
    "    # get all global variables\n",
    "    global x, y, green, blue, red, img, next_pixel_stack, segment_pixels, segment_color\n",
    "    \n",
    "    # set the seed pixel\n",
    "    seed_pixel = copy.deepcopy(img[next_pixel_stack[0]])\n",
    "    \n",
    "    while len(next_pixel_stack) > 0:\n",
    "        \n",
    "        # pop the next pixel in the stack\n",
    "        pixel = next_pixel_stack.pop()\n",
    "        \n",
    "        # if the pixel is already in the segment, skip it\n",
    "        if pixel in segment_pixels:\n",
    "            continue\n",
    "        # run the homogeneity function to see if the pixel belongs in the region\n",
    "        if is_homogeneous(seed_pixel, img[pixel]):\n",
    "            \n",
    "            # Add the pixel in the region dicitonary\n",
    "            segment_pixels[pixel] = True\n",
    "            \n",
    "            # update the pixel color\n",
    "            img[pixel] = segment_color\n",
    "            \n",
    "            # find the next potential pixels and add them to the stack\n",
    "            next_pixels = get_next_pixels(pixel)\n",
    "            next_pixel_stack.extend(next_pixels)"
   ]
  },
  {
   "cell_type": "markdown",
   "metadata": {},
   "source": [
    "### Homogneity function\n",
    "My homogeneity function ensures that the pixel belongs in the region by ensuring that all subpixel values of the analyzed pizel have a maximum difference of `threshold` compared to the `seed_pixel`.\n",
    "\n",
    "Algorithm:\n",
    "1. Compute the difference between the blue value of the pixel and the blue value of the seed pixel\n",
    "2. Compute the difference between the green value of the pixel and the green value of the seed pixel\n",
    "3. Compute the difference between the red value of the pixel and the red value of the seed pixel\n",
    "(the order in those steps do not matter)\n",
    "4. Ensure that the differences obtained in steps 1 to 3 are below or equal to the `threshold`"
   ]
  },
  {
   "cell_type": "code",
   "execution_count": 6,
   "metadata": {},
   "outputs": [],
   "source": [
    "def get_diff(value1, value2):\n",
    "    if value1 > value2:\n",
    "        diff = value1 - value2\n",
    "    else:\n",
    "        diff = value2 - value1\n",
    "    return diff\n",
    "    \n",
    "def is_homogeneous(seed_pixel, pixel):\n",
    "    global img, threshold\n",
    "    diffs = [get_diff(seed_pixel[i], pixel[i]) for i in range(3)]\n",
    "    homogeneous = diffs[0] <= threshold and diffs[1] <= threshold and diffs[2] <= threshold\n",
    "    return homogeneous"
   ]
  },
  {
   "cell_type": "code",
   "execution_count": 7,
   "metadata": {},
   "outputs": [],
   "source": [
    "# get_next_pixels finds the next potential pixels in the region using 4-connectivity\n",
    "def get_next_pixels(pixel):\n",
    "    global img\n",
    "    max_x = img.shape[1] - 1\n",
    "    max_y = img.shape[0] - 1\n",
    "    next_pixels = []\n",
    "    if pixel[0] != 0:\n",
    "        next_pixels.append((pixel[0] - 1, pixel[1]))\n",
    "    if pixel[0] != max_y:\n",
    "        next_pixels.append((pixel[0] + 1, pixel[1]))\n",
    "    if pixel[1] != 0:\n",
    "        next_pixels.append((pixel[0], pixel[1] - 1))\n",
    "    if pixel[1] != max_x:\n",
    "        next_pixels.append((pixel[0], pixel[1] + 1))\n",
    "    return next_pixels"
   ]
  },
  {
   "cell_type": "code",
   "execution_count": 8,
   "metadata": {},
   "outputs": [],
   "source": [
    "# on_trackbar is called when the trackbar is changed, it updates the threshold\n",
    "def on_trackbar(val):\n",
    "    global threshold\n",
    "    threshold = val"
   ]
  },
  {
   "cell_type": "markdown",
   "metadata": {},
   "source": [
    "## The Main Loop\n",
    "\n",
    "The main loop runs until the `x` key is pressed, which will close the open cv window.\n",
    "\n",
    "Keep in mind that the windiwo may open minimized and you may have to click on it in your taskbar.\n",
    "\n",
    "Pressing `r` will reset the image."
   ]
  },
  {
   "cell_type": "code",
   "execution_count": 9,
   "metadata": {},
   "outputs": [],
   "source": [
    "cv2.namedWindow(window_name)\n",
    "\n",
    "# Create the trackbar that will allow users to edit the threshold\n",
    "max_threshold = 100\n",
    "cv2.createTrackbar(\"Threshhold\", window_name, threshold , max_threshold, on_trackbar)\n",
    "\n",
    "while(True):\n",
    "    # Detect mouse clicks\n",
    "    cv2.setMouseCallback(window_name, onMouse)\n",
    "    \n",
    "    # Wait a little bit for the image to re-draw\n",
    "    key = cv2.waitKey(1)\n",
    "    cv2.imshow(window_name, img)\n",
    "    \n",
    "    # If an x is pressed, the window will close\n",
    "    if key == ord(\"x\"):\n",
    "        break\n",
    "        \n",
    "    # If r is pressed, the image adn regions will reset.\n",
    "    if key == ord(\"r\"):\n",
    "        img = cv2.imread(img_path)\n",
    "        segment_pixels = {}"
   ]
  },
  {
   "cell_type": "code",
   "execution_count": 10,
   "metadata": {},
   "outputs": [],
   "source": [
    "cv2.destroyAllWindows()"
   ]
  },
  {
   "cell_type": "code",
   "execution_count": null,
   "metadata": {},
   "outputs": [],
   "source": []
  }
 ],
 "metadata": {
  "kernelspec": {
   "display_name": "Python 3",
   "language": "python",
   "name": "python3"
  },
  "language_info": {
   "codemirror_mode": {
    "name": "ipython",
    "version": 3
   },
   "file_extension": ".py",
   "mimetype": "text/x-python",
   "name": "python",
   "nbconvert_exporter": "python",
   "pygments_lexer": "ipython3",
   "version": "3.8.3"
  }
 },
 "nbformat": 4,
 "nbformat_minor": 4
}
