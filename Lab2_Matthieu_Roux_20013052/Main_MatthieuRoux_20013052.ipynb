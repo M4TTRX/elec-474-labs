{
 "metadata": {
  "language_info": {
   "codemirror_mode": {
    "name": "ipython",
    "version": 3
   },
   "file_extension": ".py",
   "mimetype": "text/x-python",
   "name": "python",
   "nbconvert_exporter": "python",
   "pygments_lexer": "ipython3",
   "version": "3.8.3-final"
  },
  "orig_nbformat": 2,
  "kernelspec": {
   "name": "Python 3.8.3 64-bit ('base': conda)",
   "display_name": "Python 3.8.3 64-bit ('base': conda)",
   "metadata": {
    "interpreter": {
     "hash": "16625e97220b2c1433fd382ba9895606c78abd88d9c94430cf712719a589d011"
    }
   }
  }
 },
 "nbformat": 4,
 "nbformat_minor": 2,
 "cells": [
  {
   "source": [
    "# ELEC 474 Lab2: K-Means Clustering\n",
    "\n",
    "Matthieu Roux - 20013052\n",
    "\n",
    "For Lab 2 we will be implementing a k-means clustering algorithm. We will perform color quantization on an image using k-means with random center(s) initialization"
   ],
   "cell_type": "markdown",
   "metadata": {}
  },
  {
   "source": [
    "## Imports"
   ],
   "cell_type": "markdown",
   "metadata": {
    "tags": []
   }
  },
  {
   "cell_type": "code",
   "execution_count": 20,
   "metadata": {},
   "outputs": [],
   "source": [
    "import cv2\n",
    "import numpy as np\n",
    "import copy\n",
    "import math\n",
    "\n",
    "img_path = \"mini_baboon.jpg\"\n",
    "img = cv2.imread(img_path)\n",
    "\n",
    "img_height = img.shape[0]\n",
    "img_width = img.shape[1]\n",
    "supbixel_range = img.shape[2]"
   ]
  },
  {
   "source": [
    " You should create a track bar to select and experiment with different values of 𝒌.\n",
    "Your randomly selected cluster centers, { ci}, i = 1..k, should include color channel intensities, as\n",
    "they will be used to calculate your means."
   ],
   "cell_type": "markdown",
   "metadata": {}
  },
  {
   "source": [
    "# code for step 1 here\n",
    "\n",
    "# generate a k, the number of clusters (colors) we will have\n",
    "max_k_value = 10 # we will set a max value for k so that we dont generate an out of control amount of clusters\n",
    "k = np.random.randint(low=1, high=max_k_value)\n",
    "print(\"We will divide the image in\", k, \"colors!\") \n",
    "\n",
    "# then randomly select points \n",
    "\n"
   ],
   "cell_type": "code",
   "metadata": {
    "tags": []
   },
   "execution_count": 11,
   "outputs": [
    {
     "output_type": "stream",
     "name": "stdout",
     "text": "We will divide the image in 9 colors!\n"
    }
   ]
  },
  {
   "source": [
    "## Step 2\n",
    "Partition your image into Voronoi Regions based on the color values of each pixel. \n",
    "\n",
    "The Voronoi Region around each cluster center ci includes all pixels that are closest to that cluster center,\n",
    "according to some distance metric. In this case, as we are only interested in the color values of\n",
    "the pixels, you should use a distance metric based solely on the color channels to determine\n",
    "which pixels belong to which cluster.\n"
   ],
   "cell_type": "markdown",
   "metadata": {}
  },
  {
   "cell_type": "code",
   "execution_count": 12,
   "metadata": {
    "tags": []
   },
   "outputs": [],
   "source": [
    "# code for step 2\n",
    "\n",
    "\"\"\"\n",
    "euclidean_distance(element_1, element_2)\n",
    "    Returns the euclidean distance between point 1 and 2 point 1 and 2 are 2 arrays of length n. n represents the dimension of points 1 and 2. \n",
    "\"\"\"\n",
    "def euclidean_distance(element_1, element_2):\n",
    "    return math.sqrt(sum([(a - b) ** 2 for a, b in zip(element_1, element_2)]))\n",
    "\n",
    "def compute_voronoids(cluster_centers):\n",
    "    global img\n",
    "    pixel_to_region = {}\n",
    "    for row in img:\n",
    "        for pixel in row:\n",
    "            euclidean_distances = [euclidean_distance(cluster_center, pixel) for cluster_center in cluster_centers]\n",
    "        \n",
    "            # add the pixel to its closest region\n",
    "            pixel_to_region[pixel.tobytes()] = euclidean_distances.index(min(euclidean_distances)) - 1\n",
    "    return pixel_to_region\n"
   ]
  },
  {
   "source": [
    "## Step 3\n",
    "\n",
    "Find the mean color value mi for each Voronoi Region.\n",
    "\n",
    "a) If for each region, the mean values are very close to the cluster centers (i.e. mi ci for all i =\n",
    "1..k ), then the algorithm has converged. Recolor all pixels in each region to their mean color\n",
    "values, and STOP.\n",
    "\n",
    "b) Else, if any of the mean values differ significantly from their cluster centers (i.e. mi  ci for any\n",
    "1..k), then update the cluster centers to equal the mean values (i.e. set ci = mi) and repeat\n",
    "Steps 2 and 3."
   ],
   "cell_type": "markdown",
   "metadata": {}
  },
  {
   "cell_type": "code",
   "execution_count": 13,
   "metadata": {
    "tags": []
   },
   "outputs": [],
   "source": [
    "# code for step 3\n",
    "\n",
    "def compute_region_mean(regions):\n",
    "    global supbixel_range, k\n",
    "    region_sizes = region_totals = np.zeros((k,supbixel_range), np.uint8)\n",
    "    for row in img:\n",
    "        for pixel in row:\n",
    "            region_index = regions[pixel.tobytes()]\n",
    "            region_totals[region_index] = np.add(region_totals[region_index], pixel)  \n",
    "            region_sizes[region_index] = region_sizes[region_index] + 1\n",
    "    return [total/size for total, size in zip(region_totals, region_sizes)]\n",
    "\n",
    "def is_within_threshold(threshold, cluster_centers, region_means):\n",
    "    return False\n",
    "\n",
    "\n",
    "def compute_clusters(k, threshold = 30, max_loops = 3):\n",
    "    # compute cluster centers\n",
    "    cluster_indexes = [( np.random.randint(low=0, high=img_height), np.random.randint(low=0, high=img_width)) for i in range(k)]\n",
    "    cluster_centers = [img[index] for index in cluster_indexes]\n",
    "\n",
    "    for loop in range(max_loops):\n",
    "        # get the voronoid regions\n",
    "        pixel_to_region_dict = compute_voronoids(cluster_centers)\n",
    "\n",
    "        # get the region means\n",
    "        region_means = compute_region_mean(pixel_to_region_dict)\n",
    "\n",
    "        if is_within_threshold(threshold, cluster_centers, region_means):\n",
    "            print(\"Segmentation took\", loop, \"runs\")\n",
    "            return cluster_centers, pixel_to_region_dict\n",
    "        # if we are not within the threshold update the cluster_center values with means\n",
    "        cluster_centers = region_means\n",
    "    return cluster_centers, pixel_to_region_dict\n",
    "        \n",
    "\n",
    "\n"
   ]
  },
  {
   "cell_type": "code",
   "execution_count": 23,
   "metadata": {},
   "outputs": [],
   "source": [
    "def update_img(k, img):\n",
    "    cluster_centers, pixel_to_region_dict = compute_clusters(k)\n",
    "    for y in range(img_height):\n",
    "        for x in range(img_width):\n",
    "            img[y][x] = cluster_centers[pixel_to_region_dict[img[y][x].tobytes()]]\n",
    "    return img"
   ]
  },
  {
   "cell_type": "code",
   "execution_count": 24,
   "metadata": {
    "tags": []
   },
   "outputs": [],
   "source": [
    "\n",
    "# on_trackbar is called when the trackbar is changed, it updates the threshold\n",
    "def on_trackbar(val):\n",
    "    global k\n",
    "    k = val\n",
    "    reset_all()\n",
    "\n",
    "# reset all is used to reset the image\n",
    "def reset_all():\n",
    "    global img\n",
    "    img = cv2.imread(img_path)\n",
    "\n",
    "# Create the trackbar that will allow users to edit k\n",
    "# cv2.createTrackbar(\"k\", window_name, k , max_k_value, on_trackbar)\n",
    "\n",
    "# update image\n",
    "cluster_centers, pixel_to_region_dict = compute_clusters(k)\n",
    "img = update_img(k, img)\n",
    "\n",
    "# Rendering\n",
    "window_name = img_path\n",
    "cv2.namedWindow(window_name)\n",
    "\n",
    "while(True):\n",
    "    \n",
    "    # Wait a little bit for the image to re-draw\n",
    "    key = cv2.waitKey(1)\n",
    "    cv2.imshow(window_name, img)\n",
    "    \n",
    "    # If an x is pressed, the window will close\n",
    "    if key == ord(\"x\"):\n",
    "        break\n",
    "        \n",
    "    # If r is pressed, the image adn regions will reset.\n",
    "    if key == ord(\"r\"):\n",
    "        img = cv2.imread(img_path)\n",
    "        reset_all()\n"
   ]
  },
  {
   "cell_type": "code",
   "execution_count": 25,
   "metadata": {},
   "outputs": [],
   "source": [
    "# Run this if the open cv window starts responding / behaving\n",
    "cv2.destroyAllWindows()"
   ]
  },
  {
   "cell_type": "code",
   "execution_count": null,
   "metadata": {},
   "outputs": [],
   "source": []
  },
  {
   "cell_type": "code",
   "execution_count": null,
   "metadata": {},
   "outputs": [],
   "source": []
  }
 ]
}