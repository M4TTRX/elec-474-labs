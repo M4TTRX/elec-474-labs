{
 "metadata": {
  "language_info": {
   "codemirror_mode": {
    "name": "ipython",
    "version": 3
   },
   "file_extension": ".py",
   "mimetype": "text/x-python",
   "name": "python",
   "nbconvert_exporter": "python",
   "pygments_lexer": "ipython3",
   "version": "3.8.3-final"
  },
  "orig_nbformat": 2,
  "kernelspec": {
   "name": "Python 3.8.3 64-bit ('base': conda)",
   "display_name": "Python 3.8.3 64-bit ('base': conda)",
   "metadata": {
    "interpreter": {
     "hash": "16625e97220b2c1433fd382ba9895606c78abd88d9c94430cf712719a589d011"
    }
   }
  }
 },
 "nbformat": 4,
 "nbformat_minor": 2,
 "cells": [
  {
   "source": [
    "# ELEC 474 Lab2: K-Means Clustering\n",
    "\n",
    "Matthieu Roux - 20013052\n",
    "\n",
    "For Lab 2 we will be implementing a k-means clustering algorithm. We will perform color quantization on an image using k-means with random center(s) initialization"
   ],
   "cell_type": "markdown",
   "metadata": {}
  },
  {
   "cell_type": "code",
   "execution_count": null,
   "metadata": {},
   "outputs": [],
   "source": [
    "import numpy as np\n",
    "import cv2\n",
    "import math\n",
    "import time\n",
    "\n",
    "# terminal colours\n",
    "TGREEN = \"\\033[32m\"  # Green character\n",
    "TYELLOW = \"\\033[93m\"  # Yellow text character\n",
    "ENDC = \"\\033[m\"  # reset to the defaults\n",
    "\n",
    "# you can use baboon_smal.jpg for a smaller image of the baboon that will compute faster\n",
    "img_path = \"baboon.jpg\"\n",
    "img = cv2.imread(img_path)\n",
    "\n",
    "img_height = img.shape[0]\n",
    "img_width = img.shape[1]\n",
    "supbixel_range = img.shape[2]\n",
    "\n",
    "\n",
    "# generate a k, the number of clusters (colors) we will have\n",
    "max_k_value = 15  # we will set a max value for k so that we don't generate an out of control amount of clusters\n",
    "k = np.random.randint(low=2, high=max_k_value)"
   ]
  },
  {
   "source": [
    "A lot of waiting has to be done here so I thought implementing this would help with the waiting :)"
   ],
   "cell_type": "markdown",
   "metadata": {}
  },
  {
   "cell_type": "code",
   "execution_count": null,
   "metadata": {},
   "outputs": [],
   "source": [
    "def printProgressBar(\n",
    "    iteration,\n",
    "    total,\n",
    "    prefix=\"\",\n",
    "    suffix=\"\",\n",
    "    decimals=1,\n",
    "    length=100,\n",
    "    fill=TYELLOW + \".\",\n",
    "    printEnd=\"\",\n",
    "):\n",
    "    \"\"\"\n",
    "    Call in a loop to create terminal progress bar.\n",
    "    @params:\n",
    "        iteration   - Required  : current iteration (Int)\n",
    "        total       - Required  : total iterations (Int)\n",
    "        prefix      - Optional  : prefix string (Str)\n",
    "        suffix      - Optional  : suffix string (Str)\n",
    "        decimals    - Optional  : positive number of decimals in percent complete (Int)\n",
    "        length      - Optional  : character length of bar (Int)\n",
    "        fill        - Optional  : bar fill character (Str)d\n",
    "        printEnd    - Optional  : end character (e.g. \"\\r\", \"\\r\\n\") (Str)\n",
    "    \"\"\"\n",
    "    percent = (\"{0:.\" + str(decimals) + \"f}\").format(100 * (iteration / float(total)))\n",
    "    filledLength = int(length * iteration // total)\n",
    "    bar = fill * filledLength + \" \" * (length - filledLength)\n",
    "    print(f\"\\r{ENDC}{prefix} |{bar} {ENDC}| {percent}% {suffix}\", end=printEnd)\n",
    "    # Print New Line on Complete\n",
    "    if iteration == total:\n",
    "        print()\n",
    "\n"
   ]
  },
  {
   "cell_type": "code",
   "execution_count": null,
   "metadata": {},
   "outputs": [],
   "source": [
    "def euclidean_distance(p1, p2):\n",
    "    \"\"\"\n",
    "    euclidean_distance(element_1, element_2)\n",
    "        Returns the euclidean distance between point 1 and 2 point 1 and 2 are 2 arrays of length n. n represents the dimension of points 1 and 2.\n",
    "        It's my way of finding distance metrics.\n",
    "    \"\"\"\n",
    "    p1_int = [int(attribute) for attribute in p1]\n",
    "    p2_int = [int(attribute) for attribute in p2]\n",
    "    return math.sqrt(sum([(a - b) ** 2 for a, b in zip(p1_int, p2_int)]))\n",
    "\n",
    "\n",
    "def choose_region(pixel, cluster_centers):\n",
    "    euclidean_distances = [\n",
    "        euclidean_distance(cluster_center, pixel) for cluster_center in cluster_centers\n",
    "    ]\n",
    "    minval = min(euclidean_distances)\n",
    "    index = euclidean_distances.index(minval)\n",
    "    return index\n",
    "\n",
    "\n",
    "def get_voronoi_average(cluster_centers):\n",
    "    region_sizes = np.zeros((k, supbixel_range))\n",
    "    region_totals = np.zeros((k, supbixel_range))\n",
    "    region_map = np.zeros((img_height, img_width), np.uint8)\n",
    "\n",
    "    iteration = 0\n",
    "    total_steps = img_height * img_width\n",
    "    for index in np.ndindex(img.shape[:2]):\n",
    "        # The region index is the index the of the cluster region in cluster_centers\n",
    "        region_index = choose_region(img[index], cluster_centers)\n",
    "\n",
    "        # Add this region to the region map\n",
    "        region_map[index] = region_index\n",
    "\n",
    "        # region_sizes keeps tabs on how many pixels there are in each region\n",
    "        region_sizes[region_index] = region_sizes[region_index] + 1\n",
    "\n",
    "        # region totals will be later divided by the region_sizes a region's mean value\n",
    "        region_totals[region_index] = np.add(region_totals[region_index], img[index])\n",
    "\n",
    "        # progress bar stuff, it's necessary, trust me\n",
    "        if iteration % 1000 == 0 or iteration == total_steps:\n",
    "            printProgressBar(iteration=iteration, total=total_steps)\n",
    "        iteration = iteration + 1\n",
    "        means = [\n",
    "            np.uint8(total / size) for total, size in zip(region_totals, region_sizes)\n",
    "        ]\n",
    "    return means, region_map\n"
   ]
  },
  {
   "cell_type": "code",
   "execution_count": null,
   "metadata": {},
   "outputs": [],
   "source": [
    "\n",
    "\n",
    "def is_within_threshold(threshold, cluster_centers, region_means):\n",
    "    for center, region in zip(cluster_centers, region_means):\n",
    "        if euclidean_distance(center, region) > threshold:\n",
    "            return False\n",
    "    return True\n",
    "    \n",
    "def compute_clusters(k, threshold=30, max_loops=3):\n",
    "    # compute cluster centers\n",
    "    cluster_indexes = [\n",
    "        (\n",
    "            np.random.randint(low=0, high=img_height),\n",
    "            np.random.randint(low=0, high=img_width),\n",
    "        )\n",
    "        for i in range(k)\n",
    "    ]\n",
    "    cluster_centers = [img[index] for index in cluster_indexes]\n",
    "\n",
    "    for loop in range(max_loops):\n",
    "        # get the Voronoid regions\n",
    "        region_means, region_map = get_voronoi_average(cluster_centers)\n",
    "\n",
    "        if is_within_threshold(threshold, cluster_centers, region_means):\n",
    "            print(\n",
    "                \"\\n\\nSegmentation took \", TGREEN + str(loop + 1), ENDC, \" runs\", end=\"\"\n",
    "            )\n",
    "            return cluster_centers, region_map\n",
    "        print(\n",
    "            ENDC + \"\\nMeans do not match the threshold yet. Currently in loop: \",\n",
    "            str(loop + 1),\n",
    "            end=\"\",\n",
    "        )\n",
    "        # if we are not within the threshold update the cluster_center values with means\n",
    "        cluster_centers = region_means\n",
    "    return cluster_centers, region_map\n"
   ]
  },
  {
   "source": [
    "`update_img` uses the computed clusters to update the image"
   ],
   "cell_type": "markdown",
   "metadata": {}
  },
  {
   "cell_type": "code",
   "execution_count": null,
   "metadata": {},
   "outputs": [],
   "source": [
    "def update_img(k, img):\n",
    "    # Printing messages\n",
    "    print(\n",
    "        \"Computing regions... Please wait\\n\\nWe will divide the image in \",\n",
    "        TGREEN + str(k),\n",
    "        ENDC,\n",
    "        \" colors!\",\n",
    "        end=\"\",\n",
    "    )\n",
    "    start = time.time()\n",
    "    print()\n",
    "\n",
    "    cluster_centers, pixel_to_region_map = compute_clusters(k)\n",
    "    for index in np.ndindex(pixel_to_region_map.shape[:2]):\n",
    "        img[index] = cluster_centers[pixel_to_region_map[index]]\n",
    "\n",
    "    # Print end of computation fanfare\n",
    "    end = time.time()\n",
    "    print(\"Computation time:\\t\", int(end - start), \"s\\n\")\n",
    "    return img"
   ]
  },
  {
   "cell_type": "code",
   "execution_count": null,
   "metadata": {
    "tags": []
   },
   "outputs": [],
   "source": [
    "# reset all is used to reset the image\n",
    "def reset_all():\n",
    "    global img\n",
    "    img = cv2.imread(img_path)\n",
    "\n",
    "# on_trackbar is called when the trackbar is changed, it updates the threshold\n",
    "def on_trackbar(val):\n",
    "    global k, img\n",
    "    k = val\n",
    "    reset_all()\n",
    "    img = update_img(k, img)\n",
    "\n",
    "\n",
    "# segment the image\n",
    "img = update_img(k, img)\n",
    "\n",
    "# display the window\n",
    "window_name = img_path\n",
    "cv2.namedWindow(window_name)\n",
    "\n",
    "\n",
    "# create trackbar\n",
    "cv2.createTrackbar(\"k\", window_name, k, max_k_value, on_trackbar)\n",
    "while True:\n",
    "    # Wait a little bit for the image to re-draw\n",
    "    key = cv2.waitKey(5)\n",
    "    cv2.imshow(window_name, img)\n",
    "\n",
    "    # If an x is pressed, the window will close\n",
    "    if key == ord(\"x\"):\n",
    "        break"
   ]
  },
  {
   "cell_type": "code",
   "execution_count": null,
   "metadata": {},
   "outputs": [],
   "source": [
    "cv2.destroyAllWindows()"
   ]
  },
  {
   "cell_type": "code",
   "execution_count": null,
   "metadata": {},
   "outputs": [],
   "source": []
  }
 ]
}