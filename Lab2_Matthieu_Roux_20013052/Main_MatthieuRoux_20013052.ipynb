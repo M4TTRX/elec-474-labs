{
 "metadata": {
  "language_info": {
   "codemirror_mode": {
    "name": "ipython",
    "version": 3
   },
   "file_extension": ".py",
   "mimetype": "text/x-python",
   "name": "python",
   "nbconvert_exporter": "python",
   "pygments_lexer": "ipython3",
   "version": "3.8.3-final"
  },
  "orig_nbformat": 2,
  "kernelspec": {
   "name": "Python 3.8.3 64-bit ('base': conda)",
   "display_name": "Python 3.8.3 64-bit ('base': conda)",
   "metadata": {
    "interpreter": {
     "hash": "16625e97220b2c1433fd382ba9895606c78abd88d9c94430cf712719a589d011"
    }
   }
  }
 },
 "nbformat": 4,
 "nbformat_minor": 2,
 "cells": [
  {
   "source": [
    "# ELEC 474 Lab2: K-Means Clustering\n",
    "\n",
    "Matthieu Roux - 20013052\n",
    "\n",
    "For Lab 2 we will be implementing a k-means clustering algorithm. We will perform color quantization on an image using k-means with random center(s) initialization"
   ],
   "cell_type": "markdown",
   "metadata": {}
  },
  {
   "source": [
    "## Imports"
   ],
   "cell_type": "markdown",
   "metadata": {
    "tags": []
   }
  },
  {
   "cell_type": "code",
   "execution_count": 4,
   "metadata": {},
   "outputs": [],
   "source": [
    "import cv2\n",
    "import numpy as np\n",
    "import copy"
   ]
  },
  {
   "source": [
    "First randomly select points within the image bounds based on your selected number of\n",
    "clusters, 𝒌. You should create a track bar to select and experiment with different values of 𝒌.\n",
    "Your randomly selected cluster centers, { ci}, i = 1..k, should include color channel intensities, as\n",
    "they will be used to calculate your means."
   ],
   "cell_type": "markdown",
   "metadata": {}
  },
  {
   "cell_type": "code",
   "execution_count": null,
   "metadata": {},
   "outputs": [],
   "source": [
    "# code for step 1 here"
   ]
  },
  {
   "cell_type": "code",
   "execution_count": null,
   "metadata": {},
   "outputs": [],
   "source": [
    "Partition your image into Voronoi Regions based on the color values of each pixel. The Voronoi\n",
    "Region around each cluster center ci includes all pixels that are closest to that cluster center,\n",
    "according to some distance metric. In this case, as we are only interested in the color values of\n",
    "the pixels, you should use a distance metric based solely on the color channels to determine\n",
    "which pixels belong to which cluster.\n"
   ]
  },
  {
   "cell_type": "code",
   "execution_count": null,
   "metadata": {},
   "outputs": [],
   "source": [
    "# code for step 2"
   ]
  },
  {
   "cell_type": "code",
   "execution_count": null,
   "metadata": {},
   "outputs": [],
   "source": [
    "Find the mean color value mi for each Voronoi Region.\n",
    "\n",
    "a) If for each region, the mean values are very close to the cluster centers (i.e. mi ci for all i =\n",
    "1..k ), then the algorithm has converged. Recolor all pixels in each region to their mean color\n",
    "values, and STOP.\n",
    "b) Else, if any of the mean values differ significantly from their cluster centers (i.e. mi  ci for any\n",
    "1..k), then update the cluster centers to equal the mean values (i.e. set ci = mi) and repeat\n",
    "Steps 2 and 3."
   ]
  },
  {
   "cell_type": "code",
   "execution_count": null,
   "metadata": {},
   "outputs": [],
   "source": [
    "# code for step 3\n"
   ]
  }
 ]
}