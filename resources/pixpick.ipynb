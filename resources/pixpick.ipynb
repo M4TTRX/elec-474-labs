{
 "cells": [
  {
   "cell_type": "code",
   "execution_count": 1,
   "metadata": {},
   "outputs": [
    {
     "name": "stdout",
     "output_type": "stream",
     "text": [
      "(512, 512, 3)\n"
     ]
    }
   ],
   "source": [
    "# import sys\n",
    "\n",
    "# !{sys.executable} -m pip install opencv-python\n",
    "# \n",
    "\n",
    "import cv2\n",
    "\n",
    "import numpy as np\n",
    "# import matplotlib.pyplot as plt\n",
    "\n",
    "# path= r'C:\\Users\\Michael\\Pictures\\Images\\baboon.png'\n",
    "path= r'C:\\Users\\greensm\\Pictures\\images\\lena.png'\n",
    "\n",
    "img = cv2.imread(path)\n",
    "\n",
    "print(img.shape)\n",
    "\n",
    "# img_gray = cv2.cvtColor(img_bgr, cv2.COLOR_BGR2GRAY)\n",
    "\n",
    "# cv2.namedWindow('image')\n",
    "# cv2.imshow('image', img)\n",
    "# cv2.waitKey(0)\n",
    "# cv2.destroyAllWindows()"
   ]
  },
  {
   "cell_type": "code",
   "execution_count": 2,
   "metadata": {},
   "outputs": [
    {
     "name": "stdout",
     "output_type": "stream",
     "text": [
      "['EVENT_FLAG_ALTKEY', 'EVENT_FLAG_CTRLKEY', 'EVENT_FLAG_LBUTTON', 'EVENT_FLAG_MBUTTON', 'EVENT_FLAG_RBUTTON', 'EVENT_FLAG_SHIFTKEY', 'EVENT_LBUTTONDBLCLK', 'EVENT_LBUTTONDOWN', 'EVENT_LBUTTONUP', 'EVENT_MBUTTONDBLCLK', 'EVENT_MBUTTONDOWN', 'EVENT_MBUTTONUP', 'EVENT_MOUSEHWHEEL', 'EVENT_MOUSEMOVE', 'EVENT_MOUSEWHEEL', 'EVENT_RBUTTONDBLCLK', 'EVENT_RBUTTONDOWN', 'EVENT_RBUTTONUP']\n"
     ]
    }
   ],
   "source": [
    "events = [i for i in dir(cv2) if 'EVENT' in i]\n",
    "print(events)\n",
    "\n",
    "x = y = r = g = b = 0\n"
   ]
  },
  {
   "cell_type": "code",
   "execution_count": 3,
   "metadata": {},
   "outputs": [],
   "source": [
    "def onMouse(event,_x,_y,flags,param):\n",
    "    global x, y, g, b, r, img\n",
    "    if event == cv2.EVENT_LBUTTONDOWN:\n",
    "        g = img[_y,_x,0]\n",
    "        b = img[_y,_x,1]\n",
    "        r = img[_y,_x,2]\n",
    "        x = _x\n",
    "        y = _y\n",
    "#         x = y = r = g = b = 1\n",
    "        print ('[', x, y, '] = ', g, b, r)"
   ]
  },
  {
   "cell_type": "code",
   "execution_count": 4,
   "metadata": {},
   "outputs": [
    {
     "name": "stdout",
     "output_type": "stream",
     "text": [
      "[ 218 124 ] =  132 146 213\n",
      "[ 267 177 ] =  123 86 157\n",
      "[ 4 7 ] =  120 131 227\n",
      "[ 505 505 ] =  63 33 115\n",
      "[ 406 266 ] =  118 117 195\n",
      "[ 162 245 ] =  82 47 112\n"
     ]
    }
   ],
   "source": [
    "cv2.namedWindow('image')\n",
    "cv2.setMouseCallback('image', onMouse)\n",
    "\n",
    "cv2.imshow(\"image\", img)\n",
    "\n",
    "keepGoing = True \n",
    "while(keepGoing):\n",
    "    key = cv2.waitKey(0)\n",
    "    if key == ord(\"x\"):\n",
    "        keepGoing = False\n",
    "        \n",
    "        \n",
    "        "
   ]
  },
  {
   "cell_type": "code",
   "execution_count": 5,
   "metadata": {},
   "outputs": [],
   "source": [
    "cv2.destroyAllWindows()"
   ]
  },
  {
   "cell_type": "code",
   "execution_count": null,
   "metadata": {},
   "outputs": [],
   "source": []
  }
 ],
 "metadata": {
  "kernelspec": {
   "display_name": "Python 3",
   "language": "python",
   "name": "python3"
  },
  "language_info": {
   "codemirror_mode": {
    "name": "ipython",
    "version": 3
   },
   "file_extension": ".py",
   "mimetype": "text/x-python",
   "name": "python",
   "nbconvert_exporter": "python",
   "pygments_lexer": "ipython3",
   "version": "3.8.3"
  }
 },
 "nbformat": 4,
 "nbformat_minor": 4
}
