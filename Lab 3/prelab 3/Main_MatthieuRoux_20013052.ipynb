{
 "metadata": {
  "language_info": {
   "codemirror_mode": {
    "name": "ipython",
    "version": 3
   },
   "file_extension": ".py",
   "mimetype": "text/x-python",
   "name": "python",
   "nbconvert_exporter": "python",
   "pygments_lexer": "ipython3",
   "version": "3.8.3-final"
  },
  "orig_nbformat": 2,
  "kernelspec": {
   "name": "Python 3.8.3 64-bit ('base': conda)",
   "display_name": "Python 3.8.3 64-bit ('base': conda)",
   "metadata": {
    "interpreter": {
     "hash": "16625e97220b2c1433fd382ba9895606c78abd88d9c94430cf712719a589d011"
    }
   }
  }
 },
 "nbformat": 4,
 "nbformat_minor": 2,
 "cells": [
  {
   "source": [
    "# ELEC 474 Prelab 3\n",
    "Matthieu Roux, 20013052"
   ],
   "cell_type": "markdown",
   "metadata": {}
  },
  {
   "cell_type": "code",
   "execution_count": 5,
   "metadata": {},
   "outputs": [],
   "source": [
    "import numpy as np\n",
    "import cv2\n",
    "\n",
    "spiral_url = \"spiral.jpg\"\n",
    "lines_url = \"lines.jpg\"\n",
    "\n",
    "img_path = spiral_url\n",
    "\n",
    "img = cv2.cvtColor(cv2.imread(img_path), cv2.COLOR_BGR2GRAY)\n",
    "\n",
    "img_height = img.shape[0]\n",
    "img_width = img.shape[1]"
   ]
  },
  {
   "source": [
    "## 1 General Edge Detection\n",
    "\n",
    "### 1.1 Smooth img using the GaussianBlur() method\n"
   ],
   "cell_type": "markdown",
   "metadata": {}
  },
  {
   "source": [
    "img = cv2.GaussianBlur(src=img, ksize=(0, 0), sigmaX=2)\n"
   ],
   "cell_type": "code",
   "metadata": {},
   "execution_count": 7,
   "outputs": []
  },
  {
   "source": [
    "### 1.2 and 1.3 Sobel’s Edge Detection Masks\n"
   ],
   "cell_type": "markdown",
   "metadata": {}
  },
  {
   "source": [
    "def sobel_edge_detection(img):\n",
    "    sobel_x_filter = np.array([[-1, 0, 1], [-2, 0, 2], [-1, 0, 1]])\n",
    "    sobel_y_filter = np.array([[1, 2, 1], [0, 0, 0], [-1, -2, -1]])\n",
    "    \n",
    "    sobel_x = cv2.filter2D(img, 5, sobel_x_filter)\n",
    "    sobel_y = cv2.filter2D(img, 5, sobel_y_filter)\n",
    "    return sobel_x, sobel_y\n",
    "\n",
    "\n",
    "i_x, i_y = sobel_edge_detection(img)"
   ],
   "cell_type": "code",
   "metadata": {},
   "execution_count": 9,
   "outputs": []
  },
  {
   "source": [
    "### 1.4 Get the Gradient Magnitude G(i,j) of the image by combining `i_x` and `i_y`\n"
   ],
   "cell_type": "markdown",
   "metadata": {}
  },
  {
   "cell_type": "code",
   "execution_count": 11,
   "metadata": {},
   "outputs": [],
   "source": [
    "def gradient_magnitude(i_x, i_y):\n",
    "    gradient_magnitude = np.zeros(img.shape)\n",
    "    for index in np.ndindex(img.shape):\n",
    "        gradient_magnitude[index] = abs(i_x[index]) + abs(i_y[index])\n",
    "    gradient_magnitude *= 255 / np.amax(gradient_magnitude)\n",
    "    return gradient_magnitude.astype(np.uint8)\n",
    "\n",
    "\n",
    "gm = gradient_magnitude(i_x, i_y)\n"
   ]
  },
  {
   "source": [
    "### 1.5 Thresholding"
   ],
   "cell_type": "markdown",
   "metadata": {}
  },
  {
   "cell_type": "code",
   "execution_count": 13,
   "metadata": {},
   "outputs": [],
   "source": [
    "threshold = 18\n",
    "\n",
    "\n",
    "def apply_threshold(img, threshold):\n",
    "    output_img = (img > threshold) * 255\n",
    "    return output_img.astype(np.uint8)\n"
   ]
  },
  {
   "source": [
    "### Rendering and running Part 1"
   ],
   "cell_type": "markdown",
   "metadata": {}
  },
  {
   "cell_type": "code",
   "execution_count": 15,
   "metadata": {},
   "outputs": [],
   "source": [
    "# reset all is used to reset the image\n",
    "def reset_all():\n",
    "    global img\n",
    "    img = cv2.cvtColor(cv2.imread(img_path), cv2.COLOR_BGR2GRAY)\n",
    "\n",
    "\n",
    "# Rendering\n",
    "window_name = \"global\"\n",
    "cv2.namedWindow(window_name)\n",
    "\n",
    "# on_trackbar is called when the trackbar is changed, it updates the threshold\n",
    "def on_trackbar(val):\n",
    "    global threshold, img_sober, gm\n",
    "    threshold = val\n",
    "    img_sober = apply_threshold(gm, threshold)\n",
    "\n",
    "\n",
    "img_sober = apply_threshold(gm, threshold)\n",
    "\n",
    "# create trackbar\n",
    "cv2.createTrackbar(\"Threshold\", window_name, threshold, 255, on_trackbar)\n",
    "while True:\n",
    "    # Wait a little bit for the image to re-draw\n",
    "    key = cv2.waitKey(5)\n",
    "    cv2.imshow(window_name, img_sober)\n",
    "\n",
    "    # If an x is pressed, the window will close\n",
    "    if key == ord(\"x\"):\n",
    "        break\n",
    "cv2.destroyAllWindows()"
   ]
  },
  {
   "source": [
    "## Part 2: Canny Edges Detection"
   ],
   "cell_type": "markdown",
   "metadata": {}
  },
  {
   "cell_type": "code",
   "execution_count": 16,
   "metadata": {},
   "outputs": [],
   "source": [
    "threshold_low = 50\n",
    "threshold_hi = 150\n",
    "\n",
    "\n",
    "def on_trackbar_low(val):\n",
    "    global threshold_low, img_canny\n",
    "    if val > threshold_hi:\n",
    "        threshold_low = threshold_hi - 1\n",
    "    else:\n",
    "        threshold_low = val\n",
    "    img_canny = canny_edge_detection(img)\n",
    "\n",
    "\n",
    "def on_trackbar_hi(val):\n",
    "    global threshold_hi, img_canny\n",
    "    if val < threshold_low:\n",
    "        threshold_hi = threshold_low + 1\n",
    "    else:\n",
    "        threshold_hi = val\n",
    "    img_canny = canny_edge_detection(img)\n",
    "\n",
    "\n",
    "def canny_edge_detection(img):\n",
    "    return cv2.Canny(img, threshold1=threshold_low, threshold2=threshold_hi)\n",
    "\n",
    "\n",
    "# Rendering\n",
    "window_name = \"canny\"\n",
    "cv2.namedWindow(window_name)\n",
    "\n",
    "reset_all()\n",
    "img_canny = canny_edge_detection(img)\n",
    "cv2.createTrackbar(\"Low Threshold\", window_name, threshold_low, 255, on_trackbar_low)\n",
    "cv2.createTrackbar(\"High Threshold\", window_name, threshold_hi, 255, on_trackbar_hi)\n",
    "\n",
    "while True:\n",
    "    # Wait a little bit for the image to re-draw\n",
    "    key = cv2.waitKey(5)\n",
    "    cv2.imshow(window_name, img_canny)\n",
    "\n",
    "    # If an x is pressed, the window will close\n",
    "    if key == ord(\"x\"):\n",
    "        break\n",
    "cv2.destroyAllWindows()"
   ]
  },
  {
   "cell_type": "code",
   "execution_count": 17,
   "metadata": {},
   "outputs": [],
   "source": [
    "# run this if you are having issues with closing the windows (happens to me sometimes)\n",
    "cv2.destroyAllWindows()"
   ]
  },
  {
   "source": [
    "## 3. Comparison of General and Canny Edge Detectors"
   ],
   "cell_type": "markdown",
   "metadata": {}
  },
  {
   "cell_type": "code",
   "execution_count": 20,
   "metadata": {},
   "outputs": [
    {
     "output_type": "stream",
     "name": "stdout",
     "text": [
      "[[ True  True  True ...  True  True  True]\n [ True  True  True ...  True  True  True]\n [ True  True  True ...  True  True  True]\n ...\n [ True  True  True ...  True  True  True]\n [ True  True  True ...  True  True  True]\n [ True  True  True ...  True  True  True]]\n[0.0015625  0.0015625  0.0015625  0.0015625  0.0015625  0.0015625\n 0.0015625  0.0015625  0.0015625  0.0015625  0.0015625  0.0015625\n 0.0015625  0.0015625  0.0015625  0.0015625  0.0015625  0.0015625\n 0.0015625  0.0015625  0.0015625  0.0015625  0.0015625  0.0015625\n 0.0015625  0.0015625  0.0015625  0.0015625  0.0015625  0.0015625\n 0.0015625  0.0015625  0.0015625  0.0015625  0.0015625  0.0015625\n 0.0015625  0.0015625  0.0015625  0.0015625  0.0015625  0.0015625\n 0.0015625  0.0015625  0.0015625  0.0015625  0.0015625  0.0015625\n 0.0015625  0.0015625  0.0015625  0.0015625  0.0015625  0.0015625\n 0.0015625  0.0015625  0.0015625  0.0015625  0.0015625  0.0015625\n 0.0015625  0.0015625  0.0015625  0.0015625  0.0015625  0.0015625\n 0.0015625  0.0015625  0.0015625  0.0015625  0.0015625  0.0015625\n 0.0015625  0.0015625  0.0015625  0.0015625  0.0015625  0.0015625\n 0.0015625  0.0015625  0.0015625  0.0015625  0.0015625  0.0015625\n 0.0015625  0.0015625  0.0015625  0.0015625  0.0015625  0.0015625\n 0.0015625  0.0015625  0.0015625  0.0015625  0.0015625  0.0015625\n 0.0015625  0.0015625  0.0015625  0.0015625  0.0015625  0.0015625\n 0.0015625  0.0015625  0.0015625  0.0015625  0.0015625  0.0015625\n 0.0015625  0.0015625  0.0015625  0.0015625  0.0015625  0.0015625\n 0.0015625  0.0015625  0.0015625  0.0015625  0.0015625  0.0015625\n 0.0015625  0.0015625  0.0015625  0.0015625  0.0015625  0.0015625\n 0.0015625  0.0015625  0.0015625  0.0015625  0.0015625  0.0015625\n 0.0015625  0.0015625  0.0015625  0.0015625  0.0015625  0.0015625\n 0.0015625  0.0015625  0.0015625  0.0015625  0.0015625  0.0015625\n 0.0015625  0.0015625  0.0015625  0.0015625  0.0015625  0.0015625\n 0.0015625  0.0015625  0.0015625  0.0015625  0.0015625  0.0015625\n 0.0015625  0.0015625  0.0015625  0.00145638 0.00140881 0.00136856\n 0.00133929 0.00140149 0.0013466  0.00130269 0.00128806 0.00126244\n 0.00130269 0.00131367 0.00134294 0.0013649  0.00137954 0.00137588\n 0.00136124 0.00137222 0.0013649  0.0013649  0.00135758 0.00136856\n 0.00137954 0.00140149 0.00140881 0.00140881 0.00141247 0.00140149\n 0.00141613 0.00141247 0.00140149 0.00142345 0.00139052 0.00137954\n 0.0013832  0.00137588 0.00135392 0.00135026 0.0013466  0.00137222\n 0.00133563 0.00136856 0.00135392 0.00135758 0.00135392 0.00134294\n 0.00132831 0.00133197 0.00132099 0.00128806 0.00129903 0.00132831\n 0.00128806 0.0012844  0.00128806 0.00125512 0.00125878 0.0012844\n 0.00125512 0.00125512 0.0012661  0.00124049 0.0012478  0.00123683\n 0.00125146 0.00121121 0.00122219 0.00119292 0.00120755 0.0011673\n 0.00120755 0.00119292 0.00122951 0.00119292 0.00115632 0.00114535\n 0.00113071 0.00115998 0.00111973 0.00109046 0.0010868  0.0011673\n 0.00117096 0.00120389 0.00122951 0.00123317 0.00123683 0.00126244\n 0.00128806 0.00125512 0.00128074 0.00129903 0.0012478  0.0012661\n 0.00122951 0.00120389 0.00119292 0.00117096 0.00116364 0.00114169\n 0.00120389 0.00119657 0.00124415 0.00118926 0.00117828 0.001149\n 0.00118194 0.00121121 0.0011673  0.00117828 0.00120023 0.00115266\n 0.00121121 0.00120755 0.00115998 0.00116364 0.00117096 0.00122951\n 0.00123683 0.0012661  0.00126976 0.00120023 0.00118926 0.00114169\n 0.00113803 0.00111607 0.00113803 0.00113437 0.00111607 0.00110143\n 0.00109046 0.00112339 0.00114169 0.00116364 0.00118194 0.00122585\n 0.00121121 0.00122585 0.0012478  0.00124415 0.0012661  0.00125878\n 0.0012478  0.00125146 0.00124415 0.00126244 0.00128806 0.00127342\n 0.00127342 0.00125146 0.00122219 0.00117096 0.0011856  0.00120389\n 0.00117462 0.00124049 0.00126244 0.0012478  0.00122951 0.00127342\n 0.00125512 0.00125146 0.00122585 0.00122219 0.00118926 0.00119657\n 0.00121487 0.00123683 0.00124049 0.00120023 0.00117828 0.00113437\n 0.00112705 0.00111607 0.001149   0.00120023 0.00123683 0.0012478\n 0.00120389 0.00119292 0.00121853 0.00122951 0.0012478  0.00120755\n 0.00119292 0.00117096 0.00115632 0.00109778 0.00107948 0.00109412\n 0.00109778 0.00110875 0.00110875 0.00111241 0.00117462 0.00113071\n 0.00116364 0.00121121 0.00121121 0.00120023 0.00118194 0.00120755\n 0.00115998 0.00119292 0.00113071 0.00113803 0.00115998 0.0011856\n 0.00120389 0.00124415 0.00128806 0.00125146 0.0012661  0.00123317\n 0.00117828 0.00119292 0.0011673  0.00115632 0.00109412 0.00109046\n 0.00110509 0.00110143 0.00119292 0.0011856  0.00118194 0.00117828\n 0.00121121 0.00122951 0.00119292 0.00116364 0.00120389 0.00121853\n 0.00120755 0.00121121 0.00122219 0.00122219 0.00122219 0.00122585\n 0.00125878 0.00125146 0.00126976 0.00131733 0.00128806 0.00132099\n 0.00134294 0.00142345 0.0014454  0.00144174 0.00144174 0.00143077\n 0.00142711 0.00141979 0.00141613 0.00137954 0.00140881 0.00141247\n 0.00139783 0.00139417 0.00141247 0.00140149 0.0013832  0.00139417\n 0.00137222 0.00137222 0.0013649  0.00137588 0.00135026 0.00137588\n 0.00137954 0.0013466  0.00133929 0.00131367 0.00131733 0.00131733\n 0.00131367 0.00132831 0.00130635 0.00130635 0.00127708 0.00127342\n 0.00125146 0.00127708 0.0012478  0.00124049 0.00121487 0.00120389\n 0.00115632 0.00113437 0.00116364 0.00111241 0.00110875 0.00107948\n 0.00105386 0.00100629 0.00099166 0.00100263 0.0010502  0.0010685\n 0.00097702 0.00102093 0.00113071 0.00112705 0.00107216 0.00117462\n 0.00106484 0.00105752 0.00109778 0.00110143 0.00110875 0.00113071\n 0.00109046 0.00113071 0.00113071 0.00113071 0.00114535 0.00114535\n 0.00117828 0.00117096 0.00119292 0.00119292 0.00118926 0.00116364\n 0.00115998 0.00117462 0.00118926 0.00120023 0.00118926 0.00120389\n 0.00120755 0.00121487 0.00121121 0.00122951 0.00122585 0.00122219\n 0.00126244 0.00126244 0.00124415 0.00125146 0.00123317 0.00123683\n 0.00124415 0.00122219 0.00127708 0.00123317 0.00128074 0.00130635\n 0.00129537 0.00130635 0.00126976 0.00126244 0.00126976 0.0012661\n 0.00124415 0.0012478  0.00127708 0.0012661  0.00126976 0.00126244\n 0.00125512 0.00124415 0.00121487 0.00124415 0.00125146 0.0012478\n 0.00127708 0.00126244 0.00125878 0.00121853 0.00121853 0.00122951\n 0.00125512 0.00120023 0.00119292 0.00119657 0.00121853 0.00122951\n 0.00125146 0.00123683 0.00121487 0.00117462 0.0011673  0.00113071\n 0.00112705 0.00116364 0.00112705 0.00115266 0.00116364 0.00119292\n 0.00114535 0.00114535 0.00113437 0.0011673  0.00116364 0.00120023\n 0.00117828 0.00118194 0.00116364 0.00121121 0.00120755 0.00117828\n 0.00115266 0.00117096 0.00118194 0.00121121 0.00117462 0.00119292\n 0.00118926 0.00115266 0.001149   0.00121487 0.00123683 0.00126244\n 0.00133197 0.00129172 0.00130635 0.00143809 0.00148931 0.00150761\n 0.00151859 0.00153689 0.00154054 0.00154054 0.00153689 0.00153689\n 0.00153689 0.00154054 0.00154054 0.00153689 0.00154054 0.00153689\n 0.00153689 0.00154054 0.00153689 0.00153689 0.00153323 0.00151493\n 0.00151493 0.00152591 0.00151493 0.00150395 0.00150395 0.00150395\n 0.00150395 0.00150395 0.00150761 0.00150761 0.00150395 0.00151493\n 0.00151493 0.00151493 0.00152225 0.00151859 0.00151493 0.00151493\n 0.00150761 0.00151493 0.00150395 0.00151859 0.00151859 0.00151493\n 0.00150029 0.00144906 0.00147102 0.00148931 0.00149663 0.00149663\n 0.00148931 0.00143809 0.00141247 0.00144906 0.00152225 0.00154054\n 0.00154054 0.00153689 0.00154054 0.00153689 0.00154054 0.00154054\n 0.00154054 0.00154054 0.00154054 0.00154786]\n"
     ]
    }
   ],
   "source": [
    "def get_difference_ratio(img1, img2):\n",
    "    img_mask = img1 == img2\n",
    "    number_of_pixels = img1.shape[0] * img1.shape[1]\n",
    "    return sum(sum(img_mask)) / number_of_pixels"
   ]
  },
  {
   "cell_type": "code",
   "execution_count": null,
   "metadata": {},
   "outputs": [],
   "source": []
  }
 ]
}