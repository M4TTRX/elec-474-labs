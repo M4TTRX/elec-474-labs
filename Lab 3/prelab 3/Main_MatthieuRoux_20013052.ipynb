{
 "metadata": {
  "language_info": {
   "codemirror_mode": {
    "name": "ipython",
    "version": 3
   },
   "file_extension": ".py",
   "mimetype": "text/x-python",
   "name": "python",
   "nbconvert_exporter": "python",
   "pygments_lexer": "ipython3",
   "version": "3.8.3-final"
  },
  "orig_nbformat": 2,
  "kernelspec": {
   "name": "Python 3.8.3 64-bit ('base': conda)",
   "display_name": "Python 3.8.3 64-bit ('base': conda)",
   "metadata": {
    "interpreter": {
     "hash": "16625e97220b2c1433fd382ba9895606c78abd88d9c94430cf712719a589d011"
    }
   }
  }
 },
 "nbformat": 4,
 "nbformat_minor": 2,
 "cells": [
  {
   "source": [
    "# ELEC 474 Prelab 3\n",
    "Matthieu Roux, 20013052"
   ],
   "cell_type": "markdown",
   "metadata": {}
  },
  {
   "cell_type": "code",
   "execution_count": 1,
   "metadata": {},
   "outputs": [],
   "source": [
    "import numpy as np\n",
    "import cv2\n",
    "\n",
    "spiral_url = \"spiral.jpg\"\n",
    "lines_url = \"lines.jpg\"\n",
    "\n",
    "img_path = spiral_url\n",
    "\n",
    "img = cv2.cvtColor(cv2.imread(img_path), cv2.COLOR_BGR2GRAY)\n",
    "\n",
    "img_height = img.shape[0]\n",
    "img_width = img.shape[1]"
   ]
  },
  {
   "source": [
    "## 1 General Edge Detection\n",
    "\n",
    "### 1.1 Smooth img using the GaussianBlur() method\n"
   ],
   "cell_type": "markdown",
   "metadata": {}
  },
  {
   "source": [
    "img = cv2.GaussianBlur(src=img, ksize=(0, 0), sigmaX=2)\n"
   ],
   "cell_type": "code",
   "metadata": {},
   "execution_count": 2,
   "outputs": []
  },
  {
   "source": [
    "### 1.2 and 1.3 Sobel’s Edge Detection Masks\n"
   ],
   "cell_type": "markdown",
   "metadata": {}
  },
  {
   "source": [
    "def sobel_edge_detection(img):\n",
    "    sobel_x_filter = np.array([[-1, 0, 1], [-2, 0, 2], [-1, 0, 1]])\n",
    "    sobel_y_filter = np.array([[1, 2, 1], [0, 0, 0], [-1, -2, -1]])\n",
    "    \n",
    "    sobel_x = cv2.filter2D(img, 5, sobel_x_filter)\n",
    "    sobel_y = cv2.filter2D(img, 5, sobel_y_filter)\n",
    "    return sobel_x, sobel_y\n",
    "\n",
    "\n",
    "i_x, i_y = sobel_edge_detection(img)"
   ],
   "cell_type": "code",
   "metadata": {},
   "execution_count": 3,
   "outputs": []
  },
  {
   "source": [
    "### 1.4 Get the Gradient Magnitude G(i,j) of the image by combining `i_x` and `i_y`\n"
   ],
   "cell_type": "markdown",
   "metadata": {}
  },
  {
   "cell_type": "code",
   "execution_count": 4,
   "metadata": {},
   "outputs": [],
   "source": [
    "def gradient_magnitude(i_x, i_y):\n",
    "    gradient_magnitude = np.zeros(img.shape)\n",
    "    for index in np.ndindex(img.shape):\n",
    "        gradient_magnitude[index] = abs(i_x[index]) + abs(i_y[index])\n",
    "    gradient_magnitude *= 255 / np.amax(gradient_magnitude)\n",
    "    return gradient_magnitude.astype(np.uint8)\n",
    "\n",
    "\n",
    "gm = gradient_magnitude(i_x, i_y)\n"
   ]
  },
  {
   "source": [
    "### 1.5 Thresholding"
   ],
   "cell_type": "markdown",
   "metadata": {}
  },
  {
   "cell_type": "code",
   "execution_count": 5,
   "metadata": {},
   "outputs": [],
   "source": [
    "threshold = 18\n",
    "\n",
    "\n",
    "def apply_threshold(img, threshold):\n",
    "    output_img = (img > threshold) * 255\n",
    "    return output_img.astype(np.uint8)\n"
   ]
  },
  {
   "source": [
    "### Rendering and running Part 1"
   ],
   "cell_type": "markdown",
   "metadata": {}
  },
  {
   "cell_type": "code",
   "execution_count": 6,
   "metadata": {},
   "outputs": [],
   "source": [
    "# reset all is used to reset the image\n",
    "def reset_all():\n",
    "    global img\n",
    "    img = cv2.cvtColor(cv2.imread(img_path), cv2.COLOR_BGR2GRAY)\n",
    "\n",
    "\n",
    "# Rendering\n",
    "window_name = \"global\"\n",
    "cv2.namedWindow(window_name)\n",
    "\n",
    "# on_trackbar is called when the trackbar is changed, it updates the threshold\n",
    "def on_trackbar(val):\n",
    "    global threshold, img, gm\n",
    "    threshold = val\n",
    "    img = apply_threshold(gm, threshold)\n",
    "\n",
    "\n",
    "img = apply_threshold(gm, threshold)\n",
    "\n",
    "# create trackbar\n",
    "cv2.createTrackbar(\"Threshold\", window_name, threshold, 255, on_trackbar)\n",
    "while True:\n",
    "    # Wait a little bit for the image to re-draw\n",
    "    key = cv2.waitKey(5)\n",
    "    cv2.imshow(window_name, img)\n",
    "\n",
    "    # If an x is pressed, the window will close\n",
    "    if key == ord(\"x\"):\n",
    "        break\n",
    "cv2.destroyAllWindows()"
   ]
  },
  {
   "source": [
    "## Part 2: Canny Edges Detection"
   ],
   "cell_type": "markdown",
   "metadata": {}
  },
  {
   "cell_type": "code",
   "execution_count": 7,
   "metadata": {},
   "outputs": [],
   "source": [
    "threshold_low = 50\n",
    "threshold_hi = 150\n",
    "\n",
    "\n",
    "def on_trackbar_low(val):\n",
    "    global threshold_low, img_canny\n",
    "    if val > threshold_hi:\n",
    "        threshold_low = threshold_hi - 1\n",
    "    else:\n",
    "        threshold_low = val\n",
    "    img_canny = canny_edge_detection(img)\n",
    "\n",
    "\n",
    "def on_trackbar_hi(val):\n",
    "    global threshold_hi, img_canny\n",
    "    if val < threshold_low:\n",
    "        threshold_hi = threshold_low + 1\n",
    "    else:\n",
    "        threshold_hi = val\n",
    "    img_canny = canny_edge_detection(img)\n",
    "\n",
    "\n",
    "def canny_edge_detection(img):\n",
    "    return cv2.Canny(img, threshold1=threshold_low, threshold2=threshold_hi)\n",
    "\n",
    "\n",
    "# Rendering\n",
    "window_name = \"canny\"\n",
    "cv2.namedWindow(window_name)\n",
    "\n",
    "reset_all()\n",
    "img_canny = canny_edge_detection(img)\n",
    "cv2.createTrackbar(\"Low Threshold\", window_name, threshold_low, 255, on_trackbar_low)\n",
    "cv2.createTrackbar(\"High Threshold\", window_name, threshold_hi, 255, on_trackbar_hi)\n",
    "\n",
    "while True:\n",
    "    # Wait a little bit for the image to re-draw\n",
    "    key = cv2.waitKey(5)\n",
    "    cv2.imshow(window_name, img_canny)\n",
    "\n",
    "    # If an x is pressed, the window will close\n",
    "    if key == ord(\"x\"):\n",
    "        break"
   ]
  },
  {
   "cell_type": "code",
   "execution_count": 8,
   "metadata": {},
   "outputs": [],
   "source": [
    "cv2.destroyAllWindows()"
   ]
  }
 ]
}